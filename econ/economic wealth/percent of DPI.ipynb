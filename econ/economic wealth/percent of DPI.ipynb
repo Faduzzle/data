{
 "cells": [
  {
   "cell_type": "code",
   "execution_count": null,
   "metadata": {},
   "outputs": [],
   "source": [
    "import numpy as np\n",
    "import pandas as pd\n",
    "import fredpy as fp\n",
    "import requests\n",
    "import os\n",
    "import matplotlib.pyplot as plt\n",
    "import mock\n",
    "from openpyxl.reader import excel\n",
    "plt.style.use('classic')\n",
    "plt.rcParams['figure.facecolor'] = 'white'"
   ]
  },
  {
   "cell_type": "markdown",
   "metadata": {},
   "source": [
    "Download PSAVERT\n",
    "- This dataset gives us personal savings as a percentage of disposable income\n",
    "- aka 'their personal saving rate'"
   ]
  },
  {
   "cell_type": "code",
   "execution_count": null,
   "metadata": {},
   "outputs": [],
   "source": [
    "# Download GDP deflator data\n",
    "percent_DPI = fp.series('PSAVERT').data"
   ]
  },
  {
   "cell_type": "code",
   "execution_count": null,
   "metadata": {},
   "outputs": [],
   "source": [
    "fig,ax = plt.subplots()\n",
    "percent_DPI.plot(ax=ax,lw=2,grid=True)\n",
    "ax.set_title('PSAVERT Personal Saving Rate')\n",
    "ax.set_ylabel('Percent');"
   ]
  }
 ],
 "metadata": {
  "language_info": {
   "name": "python"
  }
 },
 "nbformat": 4,
 "nbformat_minor": 2
}
