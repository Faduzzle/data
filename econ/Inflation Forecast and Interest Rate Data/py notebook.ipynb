{
 "cells": [
  {
   "cell_type": "code",
   "execution_count": 7,
   "metadata": {},
   "outputs": [],
   "source": [
    "import numpy as np\n",
    "import pandas as pd\n",
    "import fredpy as fp\n",
    "import requests\n",
    "import os\n",
    "import matplotlib.pyplot as plt\n",
    "import mock\n",
    "from openpyxl.reader import excel\n",
    "plt.style.use('classic')\n",
    "plt.rcParams['figure.facecolor'] = 'white'"
   ]
  },
  {
   "cell_type": "markdown",
   "metadata": {},
   "source": [
    "# Inflation Forecast and Inflation Data \n",
    "With the guidance of my professor's economic data repo @letsgoexploring, this program will download and manage data taken from the Federal Reserve Bank of Philadelphia, and actual inflation and interest rate data from FRED. The goal is to learn and practice techniques in data collection. \n",
    "\n",
    "In this notebook we learn about the differences about the actual and expected inflation and historical ex ante interest rates in the US. "
   ]
  },
  {
   "cell_type": "markdown",
   "metadata": {},
   "source": [
    "# Downloading Forecast Data from SPF\n",
    "https://www.philadelphiafed.org/surveys-and-data/real-time-data-research/inflation-forecasts"
   ]
  },
  {
   "cell_type": "code",
   "execution_count": 18,
   "metadata": {},
   "outputs": [],
   "source": [
    "url = 'https://www.philadelphiafed.org/-/media/frbp/assets/surveys-and-data/survey-of-professional-forecasters/historical-data/inflation.xlsx?la=en&hash=F9C3E76769B4586C3E36E403DFA54BDC'\n",
    "\n",
    "r = requests.get(url,verify=True)\n",
    "with open(r\"C:\\Users\\thoma\\Desktop\\Data\\Econ\\inflation.xlsx\", \"wb\") as code:\n",
    "    code.write(r.content)"
   ]
  },
  {
   "cell_type": "markdown",
   "metadata": {},
   "source": [
    "Manage forecast data"
   ]
  },
  {
   "cell_type": "code",
   "execution_count": 20,
   "metadata": {},
   "outputs": [
    {
     "name": "stderr",
     "output_type": "stream",
     "text": [
      "c:\\Users\\thoma\\anaconda3\\Lib\\site-packages\\openpyxl\\worksheet\\header_footer.py:48: UserWarning: Cannot parse header or footer so it will be ignored\n",
      "  warn(\"\"\"Cannot parse header or footer so it will be ignored\"\"\")\n"
     ]
    }
   ],
   "source": [
    "# Loading data from Excel into python\n",
    "\n",
    "try:\n",
    "    inflation_forecasts = pd.read_excel(r\"C:\\Users\\thoma\\Desktop\\Data\\Econ\\inflation.xlsx\",sheet_name='INFLATION')\n",
    "except:\n",
    "    print('Formatting error in xlsx file persists: https://foss.heptapod.net/openpyxl/openpyxl/-/issues/1659')\n",
    "    with mock.patch.object(excel.ExcelReader, 'read_properties', lambda self: None):\n",
    "        inflation_forecasts = pd.read_excel(r\"C:\\Users\\thoma\\Desktop\\Data\\Econ\\inflation.xlsx\", dtype={'YEAR': str, 'QUARTER': str},sheet_name='INFLATION')"
   ]
  },
  {
   "cell_type": "code",
   "execution_count": 22,
   "metadata": {},
   "outputs": [
    {
     "data": {
      "text/html": [
       "<div>\n",
       "<style scoped>\n",
       "    .dataframe tbody tr th:only-of-type {\n",
       "        vertical-align: middle;\n",
       "    }\n",
       "\n",
       "    .dataframe tbody tr th {\n",
       "        vertical-align: top;\n",
       "    }\n",
       "\n",
       "    .dataframe thead th {\n",
       "        text-align: right;\n",
       "    }\n",
       "</style>\n",
       "<table border=\"1\" class=\"dataframe\">\n",
       "  <thead>\n",
       "    <tr style=\"text-align: right;\">\n",
       "      <th></th>\n",
       "      <th>YEAR</th>\n",
       "      <th>QUARTER</th>\n",
       "      <th>INFPGDP1YR</th>\n",
       "      <th>INFCPI1YR</th>\n",
       "      <th>INFCPI10YR</th>\n",
       "    </tr>\n",
       "  </thead>\n",
       "  <tbody>\n",
       "    <tr>\n",
       "      <th>0</th>\n",
       "      <td>1970</td>\n",
       "      <td>1</td>\n",
       "      <td>NaN</td>\n",
       "      <td>NaN</td>\n",
       "      <td>NaN</td>\n",
       "    </tr>\n",
       "    <tr>\n",
       "      <th>1</th>\n",
       "      <td>1970</td>\n",
       "      <td>2</td>\n",
       "      <td>2.9851</td>\n",
       "      <td>NaN</td>\n",
       "      <td>NaN</td>\n",
       "    </tr>\n",
       "    <tr>\n",
       "      <th>2</th>\n",
       "      <td>1970</td>\n",
       "      <td>3</td>\n",
       "      <td>3.7037</td>\n",
       "      <td>NaN</td>\n",
       "      <td>NaN</td>\n",
       "    </tr>\n",
       "    <tr>\n",
       "      <th>3</th>\n",
       "      <td>1970</td>\n",
       "      <td>4</td>\n",
       "      <td>3.5414</td>\n",
       "      <td>NaN</td>\n",
       "      <td>NaN</td>\n",
       "    </tr>\n",
       "    <tr>\n",
       "      <th>4</th>\n",
       "      <td>1971</td>\n",
       "      <td>1</td>\n",
       "      <td>3.5303</td>\n",
       "      <td>NaN</td>\n",
       "      <td>NaN</td>\n",
       "    </tr>\n",
       "  </tbody>\n",
       "</table>\n",
       "</div>"
      ],
      "text/plain": [
       "   YEAR  QUARTER  INFPGDP1YR  INFCPI1YR  INFCPI10YR\n",
       "0  1970        1         NaN        NaN         NaN\n",
       "1  1970        2      2.9851        NaN         NaN\n",
       "2  1970        3      3.7037        NaN         NaN\n",
       "3  1970        4      3.5414        NaN         NaN\n",
       "4  1971        1      3.5303        NaN         NaN"
      ]
     },
     "execution_count": 22,
     "metadata": {},
     "output_type": "execute_result"
    }
   ],
   "source": [
    "inflation_forecasts.head()"
   ]
  },
  {
   "cell_type": "code",
   "execution_count": 24,
   "metadata": {},
   "outputs": [],
   "source": [
    "# Making YEAR as the index\n",
    "inflation_forecasts.index = pd.DatetimeIndex(inflation_forecasts['YEAR'].astype(int).astype(str)+'-Q'+inflation_forecasts['QUARTER'].astype(int).astype(str),freq = 'QS')\n",
    "\n",
    "# Shift dates forward one year\n",
    "inflation_forecasts.index = inflation_forecasts.index.shift(4)\n",
    "\n",
    "# Drop unnecessary columns\n",
    "inflation_forecasts = inflation_forecasts.drop(['YEAR','QUARTER','INFCPI10YR'],axis=1)\n",
    "\n",
    "# Fill missing value for July 1974\n",
    "inflation_forecasts = inflation_forecasts.interpolate(limit_area='inside')\n",
    "\n",
    "# Rename remaining columns\n",
    "inflation_forecasts.columns = ['DEFLATOR','CPI']"
   ]
  },
  {
   "cell_type": "code",
   "execution_count": null,
   "metadata": {},
   "outputs": [],
   "source": [
    "fig,ax = plt.subplots()\n",
    "inflation_forecasts.plot(ax=ax,lw=2,grid=True)\n",
    "ax.set_title('Inflation forecasts from SPF')\n",
    "ax.set_ylabel('Percent');"
   ]
  },
  {
   "cell_type": "markdown",
   "metadata": {},
   "source": [
    "### Download and Manage data from FRED\n",
    "- GDP deflator (GDPDEF)\n",
    "- CPI (CPIAUCSL)\n",
    "- Yield on US Treasury Securities 1 Mo (GS1)"
   ]
  },
  {
   "cell_type": "code",
   "execution_count": null,
   "metadata": {},
   "outputs": [],
   "source": [
    "# Download GDP deflator data\n",
    "deflator = fp.series('GDPDEF').data\n",
    "\n",
    "# Construct inflation rate over previous 4 quarters\n",
    "deflator = 100*(deflator/deflator.shift(4)-1)"
   ]
  },
  {
   "cell_type": "code",
   "execution_count": null,
   "metadata": {},
   "outputs": [],
   "source": [
    "# Download CPI data\n",
    "cpi = fp.series('CPIAUCSL').data\n",
    "\n",
    "# Construct inflation rate over previous 12 months\n",
    "cpi = 100*(cpi/cpi.shift(12)-1)\n",
    "\n",
    "# Take only CPI inflation values for the last month of quarter, but date as first month of quarter\n",
    "cpi = cpi.resample('Q').ffill()\n",
    "cpi = cpi.resample('QS').bfill()"
   ]
  },
  {
   "cell_type": "code",
   "execution_count": null,
   "metadata": {},
   "outputs": [],
   "source": [
    "# Download 1 year T-bill rate\n",
    "nominal_rate = fp.series('GS1').data\n",
    "\n",
    "# Convert to quarterly frequency \n",
    "nominal_rate = nominal_rate.asfreq('QS')"
   ]
  },
  {
   "cell_type": "code",
   "execution_count": null,
   "metadata": {},
   "outputs": [],
   "source": [
    "df = pd.concat([inflation_forecasts,deflator,cpi,nominal_rate],axis=1)\n",
    "df = df[df['DEFLATOR'].notna()]\n",
    "\n",
    "df.columns = [\n",
    "    'deflator inflation - forecast',\n",
    "    'cpi inflation - forecast',\n",
    "    'deflator inflation - actual',\n",
    "    'cpi inflation - actual',\n",
    "    'nominal interest'\n",
    "]\n",
    "\n",
    "df.to_csv(r\"C:\\Users\\thoma\\Desktop\\Data\\Econ/csv/inflation_forecast_data.csv')"
   ]
  },
  {
   "cell_type": "markdown",
   "metadata": {},
   "source": [
    "### Plots"
   ]
  },
  {
   "cell_type": "code",
   "execution_count": null,
   "metadata": {},
   "outputs": [],
   "source": [
    "# Actual and forecasted CPI inflation\n",
    "fig,ax = plt.subplots()\n",
    "cpi = df[df['cpi inflation - forecast'].notna()][['cpi inflation - actual','cpi inflation - forecast']]\n",
    "cpi.plot(legend=False,ax=ax,lw=2)\n",
    "\n",
    "ax.legend(['Actual','Expected'],loc='center left', bbox_to_anchor=(1, 0.5))\n",
    "ax.set_title('CPI Inflation')\n",
    "ax.set_ylabel('Percent')\n",
    "ax.grid()"
   ]
  },
  {
   "cell_type": "code",
   "execution_count": null,
   "metadata": {},
   "outputs": [],
   "source": [
    "# Actual and forecasted GDP deflator inflation\n",
    "fig,ax = plt.subplots()\n",
    "deflator = df[df['deflator inflation - forecast'].notna()][['deflator inflation - actual','deflator inflation - forecast']]\n",
    "deflator.plot(legend=False,ax=ax,lw=2)\n",
    "\n",
    "ax.legend(['Actual','Expected'],loc='center left', bbox_to_anchor=(1, 0.5))\n",
    "ax.set_title('GDP Deflator Inflation')\n",
    "ax.set_ylabel('Percent')\n",
    "ax.grid()"
   ]
  },
  {
   "cell_type": "code",
   "execution_count": null,
   "metadata": {},
   "outputs": [],
   "source": [
    "# Figure for website\n",
    "fig,ax = plt.subplots()\n",
    "ax.plot(deflator['deflator inflation - actual'],'-b',lw=2,label='$\\\\pi$')\n",
    "ax.plot(deflator['deflator inflation - forecast'],'--r',lw=2,label='$E\\\\pi$')\n",
    "ax.fill_between(deflator.index,deflator['deflator inflation - forecast'],np.max([deflator['deflator inflation - actual'],deflator['deflator inflation - forecast']],axis=0),color='g',alpha=0.25,label='$\\\\pi>E\\\\pi$')\n",
    "ax.fill_between(deflator.index,np.max([deflator['deflator inflation - actual'],deflator['deflator inflation - forecast']],axis=0),deflator['deflator inflation - actual'],color='r',alpha=0.25,label='$\\\\pi<E\\\\pi$')\n",
    "fp.recessions(start=deflator.index[0],end=deflator.index[-1])\n",
    "ax.grid()\n",
    "ax.set_ylabel('Percent')\n",
    "\n",
    "# ax.legend(loc='center left', bbox_to_anchor=(1, 0.5))\n",
    "ax.legend(bbox_to_anchor=(0., 1.02, 1., .102), loc=3,ncol=4,borderaxespad=0., mode=\"expand\",fontsize=13)\n",
    "\n",
    "\n",
    "plt.savefig('../png/fig_US_Inflation_Forecast_site.png',bbox_inches='tight')"
   ]
  }
 ],
 "metadata": {
  "kernelspec": {
   "display_name": "base",
   "language": "python",
   "name": "python3"
  },
  "language_info": {
   "codemirror_mode": {
    "name": "ipython",
    "version": 3
   },
   "file_extension": ".py",
   "mimetype": "text/x-python",
   "name": "python",
   "nbconvert_exporter": "python",
   "pygments_lexer": "ipython3",
   "version": "3.12.7"
  }
 },
 "nbformat": 4,
 "nbformat_minor": 2
}
