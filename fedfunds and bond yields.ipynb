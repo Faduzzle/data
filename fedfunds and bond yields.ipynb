{
 "cells": [
  {
   "cell_type": "code",
   "execution_count": null,
   "metadata": {},
   "outputs": [],
   "source": [
    "import numpy as np\n",
    "import pandas as pd\n",
    "import os\n",
    "import fredpy as fp\n",
    "import matplotlib.pyplot as plt\n",
    "plt.style.use('classic')\n",
    "plt.rcParams['figure.facecolor'] = 'white'"
   ]
  },
  {
   "cell_type": "markdown",
   "metadata": {},
   "source": [
    "## Fed Funds Rate and Bond Yields"
   ]
  },
  {
   "cell_type": "markdown",
   "metadata": {},
   "source": [
    "This notebook collects interest rate data relevant to my interest rate forecasting project\n",
    "\n",
    "I will source the data from the FRED which updates daily. I want to see how short term maturities and long term maturities track the fed funds target rate."
   ]
  },
  {
   "cell_type": "markdown",
   "metadata": {},
   "source": [
    "### Downloading the Data\n",
    "- Fed rate (FEDFUNDS)\n",
    "- 1 mo constant maturity rate (DGS1MO)\n",
    "- 3 mo constant maturity rate (DGS3MO)\n",
    "- 6 mo constant maturity rate (DGS6MO)\n",
    "- 1 yr constant maturity rate (DGS1)\n",
    "- 2 yr constant maturity rate (DGS2)\n",
    "- 5 yr constant maturity rate (DGS5)\n",
    "- 10 yr constant maturity rate (DGS10)\n",
    "- 20 yr constant maturity rate (DGS20)\n",
    "- 30 yr constant maturity rate (DGS30)"
   ]
  },
  {
   "cell_type": "code",
   "execution_count": null,
   "metadata": {},
   "outputs": [],
   "source": [
    "start_date = '1950-01-01'\n",
    "end_date = '3000-01-01'"
   ]
  },
  {
   "cell_type": "code",
   "execution_count": null,
   "metadata": {},
   "outputs": [],
   "source": [
    "# Downloading data into Fred objects\n",
    "yff= fp.series('FEDFUNDS')\n",
    "y1m = fp.series('DGS1MO')\n",
    "y3m = fp.series('DGS3MO')\n",
    "y6m = fp.series('DGS6MO')\n",
    "y1  = fp.series('DGS1')\n",
    "y5  = fp.series('DGS5')\n",
    "y10 = fp.series('DGS10')\n",
    "y20 = fp.series('DGS20')\n",
    "y30 = fp.series('DGS30')\n",
    "\n",
    "# Give the series a name\n",
    "yff.data.name = 'Fed Funds'\n",
    "y1m.data.name = '1 mo'\n",
    "y3m.data.name = '3 mo'\n",
    "y6m.data.name = '6 mo'\n",
    "y1.data.name = '1 yr'\n",
    "y5.data.name = '5 yr'\n",
    "y10.data.name = '10 yr'\n",
    "y20.data.name = '20 yr'\n",
    "y30.data.name = '30 yr'\n",
    "\n",
    "# Creating the Yield Curve\n",
    "yc = pd.concat([y1m.data,y3m.data,y6m.data,y1.data,y5.data,y10.data,y20.data,y30.data],axis=1)\n",
    "yields = yields.loc[start_date:end_date]"
   ]
  },
  {
   "cell_type": "code",
   "execution_count": null,
   "metadata": {},
   "outputs": [],
   "source": [
    "fig, ((ax1, ax2, ax3, ax4), (ax5, ax6, ax7, ax8)) = plt.subplots(2, 4)\n",
    "fig.suptitle('Fed Funds Rate vs X Maturity Yields')\n",
    "\n",
    "# Short term bills\n",
    "ax1.plot(yff, label='Fed Funds Rate')\n",
    "ax1.plot(y1m, label='1-month')\n",
    "ax1.legend()\n",
    "\n",
    "ax2.plot(yff, label='Fed Funds Rate')\n",
    "ax2.plot(y3m, label='3-month')\n",
    "ax2.legend()\n",
    "\n",
    "ax3.plot(yff, label='Fed Funds Rate')\n",
    "ax3.plot(y6m, label='6-month')\n",
    "ax3.legend()\n",
    "\n",
    "ax4.plot(yff, label='Fed Funds Rate')\n",
    "ax4.plot(y1, label='1-year')\n",
    "ax4.legend()\n",
    "\n",
    "# Bottom row: long-term bonds\n",
    "ax5.plot(yff, label='Fed Funds Rate')\n",
    "ax5.plot(y5, label='5-year')\n",
    "ax5.legend()\n",
    "\n",
    "ax6.plot(yff, label='Fed Funds Rate')\n",
    "ax6.plot(y10, label='10-year')\n",
    "ax6.legend()\n",
    "\n",
    "ax7.plot(yff, label='Fed Funds Rate')\n",
    "ax7.plot(y20, label='20-year')\n",
    "ax7.legend()\n",
    "\n",
    "ax8.plot(yff, label='Fed Funds Rate')\n",
    "ax8.plot(y30, label='30-year')\n",
    "ax8.legend()\n",
    "\n",
    "plt.show()"
   ]
  },
  {
   "cell_type": "code",
   "execution_count": null,
   "metadata": {},
   "outputs": [],
   "source": []
  }
 ],
 "metadata": {
  "language_info": {
   "name": "python"
  }
 },
 "nbformat": 4,
 "nbformat_minor": 2
}
